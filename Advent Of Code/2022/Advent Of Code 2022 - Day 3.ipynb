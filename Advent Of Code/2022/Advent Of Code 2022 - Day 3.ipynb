{
 "cells": [
  {
   "cell_type": "markdown",
   "id": "72feaee4",
   "metadata": {},
   "source": [
    "# Advent Of Code - Day 3"
   ]
  },
  {
   "cell_type": "markdown",
   "id": "acfd10ae",
   "metadata": {},
   "source": [
    "## Question 1"
   ]
  },
  {
   "cell_type": "code",
   "execution_count": 240,
   "id": "e5aab8aa",
   "metadata": {},
   "outputs": [],
   "source": [
    "import numpy as np"
   ]
  },
  {
   "cell_type": "code",
   "execution_count": 241,
   "id": "eefe3550",
   "metadata": {},
   "outputs": [],
   "source": [
    "# Loading file \n",
    "text_file = open('untitled.txt').read().split(\"\\n\")"
   ]
  },
  {
   "cell_type": "code",
   "execution_count": 242,
   "id": "b2fc657d",
   "metadata": {},
   "outputs": [],
   "source": [
    "# Splitting the string into its first and second half components\n",
    "first_half = [x[:round((len(x)/2))] for x in text_file]\n",
    "second_half = [x[-(round(len(x)/2)):] for x in text_file]"
   ]
  },
  {
   "cell_type": "code",
   "execution_count": 243,
   "id": "885ba993",
   "metadata": {},
   "outputs": [],
   "source": [
    "# Checking which letters are common between first and half strings\n",
    "common_letters_array = list()\n",
    "for i in range(0,len(first_half)):\n",
    "    for g in range(0,len(first_half[i])):\n",
    "        if first_half[i][g] in second_half[i]:\n",
    "            common_letters_array.append(first_half[i][g])\n",
    "            break\n",
    "            "
   ]
  },
  {
   "cell_type": "code",
   "execution_count": 244,
   "id": "77d1ae73",
   "metadata": {},
   "outputs": [],
   "source": [
    "# Creating a combined string of lower and uppercase alphabets\n",
    "result_lower = string.ascii_lowercase\n",
    "result_upper = string.ascii_uppercase\n",
    "alphabet_total = result_lower + result_upper"
   ]
  },
  {
   "cell_type": "code",
   "execution_count": 245,
   "id": "32309279",
   "metadata": {},
   "outputs": [
    {
     "data": {
      "text/plain": [
       "7568"
      ]
     },
     "execution_count": 245,
     "metadata": {},
     "output_type": "execute_result"
    }
   ],
   "source": [
    "# Counting total score\n",
    "score_count = list()\n",
    "for letter in common_letters_array:\n",
    "    score = alphabet_total.index(letter) + 1\n",
    "    score_count.append(score)\n",
    "    \n",
    "sum(score_count)"
   ]
  },
  {
   "cell_type": "markdown",
   "id": "3cdfa09a",
   "metadata": {},
   "source": [
    "## Question 2"
   ]
  },
  {
   "cell_type": "code",
   "execution_count": 246,
   "id": "cae3870a",
   "metadata": {},
   "outputs": [],
   "source": [
    "# Question 2 \n",
    "# Splitting the array into bits of 3 elements\n",
    "chunks = np.array_split(text_file, 100)"
   ]
  },
  {
   "cell_type": "code",
   "execution_count": 247,
   "id": "82fe6fa0",
   "metadata": {},
   "outputs": [],
   "source": [
    "# Checking what letter is common between the three elements\n",
    "letters_array = list()\n",
    "for subset in chunks:\n",
    "    for letter in subset[0]:\n",
    "        if letter in subset[1] and letter in subset[2]:\n",
    "            letters_array.append(letter)\n",
    "            break\n",
    "            "
   ]
  },
  {
   "cell_type": "code",
   "execution_count": 248,
   "id": "343821e9",
   "metadata": {},
   "outputs": [
    {
     "data": {
      "text/plain": [
       "2780"
      ]
     },
     "execution_count": 248,
     "metadata": {},
     "output_type": "execute_result"
    }
   ],
   "source": [
    "# Counting score\n",
    "score_count_2 = list()\n",
    "for letter in letters_array:\n",
    "    score = alphabet_total.index(letter) + 1\n",
    "    score_count_2.append(score)\n",
    "sum(score_count_2)"
   ]
  }
 ],
 "metadata": {
  "kernelspec": {
   "display_name": "Python 3 (ipykernel)",
   "language": "python",
   "name": "python3"
  },
  "language_info": {
   "codemirror_mode": {
    "name": "ipython",
    "version": 3
   },
   "file_extension": ".py",
   "mimetype": "text/x-python",
   "name": "python",
   "nbconvert_exporter": "python",
   "pygments_lexer": "ipython3",
   "version": "3.10.8"
  }
 },
 "nbformat": 4,
 "nbformat_minor": 5
}
