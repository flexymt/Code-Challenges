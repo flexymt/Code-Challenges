{
 "cells": [
  {
   "cell_type": "code",
   "execution_count": 2,
   "id": "060eb5de",
   "metadata": {},
   "outputs": [],
   "source": [
    "import pandas as pd"
   ]
  },
  {
   "cell_type": "code",
   "execution_count": 3,
   "id": "d1bcb186",
   "metadata": {},
   "outputs": [],
   "source": [
    "test_dataset = open('total_d.txt').read().split('\\n')"
   ]
  },
  {
   "cell_type": "code",
   "execution_count": 18,
   "id": "a6d2edb6",
   "metadata": {},
   "outputs": [],
   "source": [
    "dataframe = pd.DataFrame()\n",
    "i = 0\n",
    "for g in range(0,len(test_dataset)):\n",
    "    ith_lement = test_dataset[g]\n",
    "    split = list(ith_lement)\n",
    "    dataframe[i] = split\n",
    "    i = i + 1\n",
    "\n",
    "dataframe = dataframe.T\n",
    "column_names = list(dataframe.columns)\n",
    "dataframe.columns = column_names"
   ]
  },
  {
   "cell_type": "markdown",
   "id": "685c61b6",
   "metadata": {},
   "source": [
    "# Question 1"
   ]
  },
  {
   "cell_type": "code",
   "execution_count": 28,
   "id": "a58c9c74",
   "metadata": {
    "scrolled": false
   },
   "outputs": [],
   "source": [
    "values_list = list()\n",
    "total_points = list()\n",
    "for row in dataframe.index:\n",
    "    for column in dataframe.columns:\n",
    "        current_row = dataframe[dataframe.index == row]\n",
    "        current_column = pd.DataFrame(dataframe[column])\n",
    "        current_value  = int(dataframe.iloc[row,column])\n",
    "        point = 0\n",
    "        \n",
    "        # Left to Right\n",
    "        current_row_sliced = current_row.iloc[:,:column] # column\n",
    "        \n",
    "        if current_row_sliced.empty:\n",
    "             left_to_right = 'left-to-right-visible'\n",
    "             point = 1    \n",
    "            \n",
    "        elif int(current_row_sliced.values.max()) < current_value:\n",
    "            left_to_right = 'left-to-right-visible'\n",
    "            point = 1\n",
    "            \n",
    "        # Right To Left\n",
    "        current_row_c = current_row.copy()\n",
    "        current_row_revese = current_row_c.values.tolist()[0]\n",
    "        current_row_revese.reverse()\n",
    "        reversed_series = pd.DataFrame(current_row_revese).T\n",
    "        adj_column = len(current_row.values[0]) - column\n",
    "        current_row_sliced = reversed_series.iloc[:,:adj_column -1 ] \n",
    "        \n",
    "        if current_row_sliced.empty:\n",
    "             right_to_left = 'right_to_left-visible'\n",
    "             point = 1\n",
    "\n",
    "        elif int(current_row_sliced.values.max()) < current_value:\n",
    "            right_to_left = 'right_to_left-visible'\n",
    "            point = 1\n",
    "            \n",
    "        #Top to bottom\n",
    "        current_column_sliced = current_column.iloc[:row,:]\n",
    "        if current_column_sliced.empty:\n",
    "            point = 1\n",
    "\n",
    "        elif int(current_column_sliced.values.max()) < current_value:\n",
    "            top_to_bottom = 'top-to-bottom-visible'\n",
    "            point = 1\n",
    "\n",
    "        # Bottom To Top\n",
    "        current_column_c = current_column.copy()\n",
    "        current_column_revese = current_column_c.values.flatten().tolist()\n",
    "        current_column_revese.reverse()\n",
    "        reversed_series = pd.DataFrame(current_column_revese).T\n",
    "        adj_row = len(current_column.values.flatten()) - row\n",
    "        current_row_sliced = reversed_series.iloc[:,:adj_row -1  ] \n",
    "        \n",
    "        if current_row_sliced.empty:\n",
    "             bottom_to_top = 'bottom-to-top-visible'\n",
    "             point = 1\n",
    "\n",
    "        elif int(current_row_sliced.values.max()) < current_value:\n",
    "            bottom_to_top = 'bottom-to-top-visible'\n",
    "            point = 1\n",
    "            \n",
    "        total_points.append(point)\n",
    "        values_list.append(current_value)\n",
    "sum(values_list)"
   ]
  },
  {
   "cell_type": "markdown",
   "id": "cffac4d4",
   "metadata": {},
   "source": [
    "# Question 2"
   ]
  },
  {
   "cell_type": "code",
   "execution_count": 27,
   "id": "4b1ec97b",
   "metadata": {},
   "outputs": [
    {
     "data": {
      "text/plain": [
       "405769"
      ]
     },
     "execution_count": 27,
     "metadata": {},
     "output_type": "execute_result"
    }
   ],
   "source": [
    "values_list = list()\n",
    "total_points = list()\n",
    "for row in dataframe.index:\n",
    "    for column in dataframe.columns:\n",
    "        \n",
    "        current_row = dataframe[dataframe.index == row]\n",
    "        current_column = pd.DataFrame(dataframe[column])\n",
    "        current_value  = int(dataframe.iloc[row,column])\n",
    "        point = 0\n",
    "        \n",
    "        # Left\n",
    "        current_row_c=current_row.iloc[:,:column].values[0].tolist()\n",
    "        current_row_c.reverse()\n",
    "        current_row_sliced = current_row_c\n",
    "        cond_1 = 0\n",
    "        for i in current_row_sliced:\n",
    "            if current_value > int(i):\n",
    "                cond_1 = cond_1 + 1\n",
    "            elif current_value == int(i):\n",
    "                cond_1 = cond_1 + 1\n",
    "                break\n",
    "                \n",
    "        # Right\n",
    "        current_row_sliced = current_row.iloc[:,column + 1:].values[0].tolist()\n",
    "        \n",
    "        cond_2 = 0\n",
    "        for i in current_row_sliced:\n",
    "            if current_value > int(i):\n",
    "                cond_2 = cond_2 + 1\n",
    "            elif current_value == int(i):\n",
    "                cond_2 = cond_2 + 1\n",
    "                break \n",
    "                \n",
    "        # Up\n",
    "        cond_3 = 0\n",
    "        if row != 0:\n",
    "            current_column_c = current_column.iloc[:row].values.flatten().tolist()\n",
    "            current_column_c.reverse()\n",
    "            current_column_sliced_test = current_column_c\n",
    "\n",
    "            for i in current_column_sliced_test:\n",
    "                if current_value > int(i):\n",
    "                    cond_3 = cond_3 + 1\n",
    "                elif current_value == int(i):\n",
    "                    cond_3 = cond_3 + 1\n",
    "                    break\n",
    "        \n",
    "        # Down\n",
    "        current_column_sliced = current_column.iloc[row + 1:].values.flatten().tolist()\n",
    "        cond_4 = 0\n",
    "        for i in current_column_sliced:\n",
    "            if current_value > int(i):\n",
    "                cond_4 = cond_4 + 1\n",
    "            elif current_value == int(i):\n",
    "                cond_4 = cond_4 + 1\n",
    "                break\n",
    "                \n",
    "        multiple_value = cond_1*cond_2*cond_3*cond_4\n",
    "        values_list.append(multiple_value)\n",
    "max(values_list)    "
   ]
  }
 ],
 "metadata": {
  "kernelspec": {
   "display_name": "Python 3 (ipykernel)",
   "language": "python",
   "name": "python3"
  },
  "language_info": {
   "codemirror_mode": {
    "name": "ipython",
    "version": 3
   },
   "file_extension": ".py",
   "mimetype": "text/x-python",
   "name": "python",
   "nbconvert_exporter": "python",
   "pygments_lexer": "ipython3",
   "version": "3.10.8"
  }
 },
 "nbformat": 4,
 "nbformat_minor": 5
}
