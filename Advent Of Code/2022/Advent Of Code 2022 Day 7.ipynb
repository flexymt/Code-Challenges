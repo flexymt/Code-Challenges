{
 "cells": [
  {
   "cell_type": "code",
   "execution_count": 3,
   "id": "df5f091e",
   "metadata": {},
   "outputs": [],
   "source": [
    "dataset = open('dataset.txt').read().split('\\n')"
   ]
  },
  {
   "cell_type": "markdown",
   "id": "c008209e",
   "metadata": {},
   "source": [
    "# Question 1"
   ]
  },
  {
   "cell_type": "code",
   "execution_count": 329,
   "id": "7bd63962",
   "metadata": {
    "scrolled": true
   },
   "outputs": [],
   "source": [
    "def return_nested_current_dict(current_directory_level,directory_name):\n",
    "    local current_directory_level.append(directory_name)\n",
    "    string = str()\n",
    "    for level in current_directory_level:\n",
    "        string = string + f\"['{level}']\"\n",
    "    return string\n",
    "\n",
    "\n",
    "current_level_array = list(['cd/'])\n",
    "overall_dir = dict()\n",
    "overall_dir['cd/'] = dict()\n",
    "for line in dataset:\n",
    "    if line == '$ cd /':\n",
    "        continue\n",
    "    line_arr = line.split()\n",
    "    if line_arr[0] == 'dir':\n",
    "        directory_name = line_arr[1]\n",
    "        current_directory_level = current_level_array.copy()\n",
    "        nested_levels = return_nested_current_dict(current_directory_level,directory_name)\n",
    "        exec(f\"overall_dir{nested_levels} = dict()\")\n",
    "        \n",
    "    if len(line_arr) > 2:\n",
    "        \n",
    "        if line_arr[0]  == '$' and line_arr[1]  == 'cd' and line_arr[2]  != '..':\n",
    "            current_level_array.append(line_arr[2])\n",
    "        \n",
    "        elif line == '$ cd ..':\n",
    "            del current_level_array[-1]\n",
    "                            \n",
    "    elif line_arr[0].isdigit():\n",
    "        key_name = line_arr[1]\n",
    "        key_value = line_arr[0]\n",
    "        current_directory_level = current_level_array.copy()\n",
    "        nested_levels = return_nested_current_dict(current_directory_level,key_name)\n",
    "        exec(f\"overall_dir{nested_levels} = {key_value}\")"
   ]
  },
  {
   "cell_type": "code",
   "execution_count": 734,
   "id": "07f45710",
   "metadata": {},
   "outputs": [],
   "source": [
    "# How to iterate through a nested dictionary and retrieve size inspired from solution https://github.com/Jon-Kle/Advent-of-Code/blob/main/2022/puzzle7.py\n",
    "size_list = list()\n",
    "def size_counter(data, path = list()):\n",
    "    \n",
    "    size = 0\n",
    "    keys = data.keys()\n",
    "    \n",
    "    for i in keys:\n",
    "        if isinstance(data[i], dict):\n",
    "            size += size_counter(data[i], path + [i])\n",
    "        else:\n",
    "            size += data[i]\n",
    "            \n",
    "    size_list.append([path,size])\n",
    "    \n",
    "    return size\n",
    "            \n",
    "    \n",
    "    \n",
    "            \n",
    "            "
   ]
  },
  {
   "cell_type": "code",
   "execution_count": 736,
   "id": "9fb91850",
   "metadata": {},
   "outputs": [
    {
     "data": {
      "text/plain": [
       "42259140"
      ]
     },
     "execution_count": 736,
     "metadata": {},
     "output_type": "execute_result"
    }
   ],
   "source": [
    "size_counter(overall_dir)"
   ]
  },
  {
   "cell_type": "code",
   "execution_count": 737,
   "id": "2d713457",
   "metadata": {},
   "outputs": [
    {
     "data": {
      "text/plain": [
       "1517599"
      ]
     },
     "execution_count": 737,
     "metadata": {},
     "output_type": "execute_result"
    }
   ],
   "source": [
    "sum([x[1] for x in size_list if x[1] <= 100000])"
   ]
  },
  {
   "cell_type": "markdown",
   "id": "e2e394db",
   "metadata": {},
   "source": [
    "# Question 2"
   ]
  },
  {
   "cell_type": "code",
   "execution_count": 745,
   "id": "c087bbc9",
   "metadata": {},
   "outputs": [
    {
     "data": {
      "text/plain": [
       "222842"
      ]
     },
     "execution_count": 745,
     "metadata": {},
     "output_type": "execute_result"
    }
   ],
   "source": [
    "diff_required = 30000000 - (70000000 - 42259140) \n",
    "min([x[1] - diff_required for x in size_list if x[1] - diff_required > 0])\n"
   ]
  }
 ],
 "metadata": {
  "kernelspec": {
   "display_name": "Python 3 (ipykernel)",
   "language": "python",
   "name": "python3"
  },
  "language_info": {
   "codemirror_mode": {
    "name": "ipython",
    "version": 3
   },
   "file_extension": ".py",
   "mimetype": "text/x-python",
   "name": "python",
   "nbconvert_exporter": "python",
   "pygments_lexer": "ipython3",
   "version": "3.10.8"
  }
 },
 "nbformat": 4,
 "nbformat_minor": 5
}
