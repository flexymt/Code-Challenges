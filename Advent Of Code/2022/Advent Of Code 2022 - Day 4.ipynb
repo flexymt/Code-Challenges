{
 "cells": [
  {
   "cell_type": "markdown",
   "id": "bccb840f",
   "metadata": {},
   "source": [
    "# Advent Of Code 2022 - Day 4"
   ]
  },
  {
   "cell_type": "code",
   "execution_count": 5,
   "id": "66d7145b",
   "metadata": {},
   "outputs": [],
   "source": [
    "data = open('untitled.txt').read().split('\\n')"
   ]
  },
  {
   "cell_type": "markdown",
   "id": "374f8e5c",
   "metadata": {},
   "source": [
    "## Question 1"
   ]
  },
  {
   "cell_type": "code",
   "execution_count": 74,
   "id": "f61624e6",
   "metadata": {},
   "outputs": [
    {
     "data": {
      "text/plain": [
       "494"
      ]
     },
     "execution_count": 74,
     "metadata": {},
     "output_type": "execute_result"
    }
   ],
   "source": [
    "count = 0\n",
    "for i in data:\n",
    "    split = i.split(',')\n",
    "    \n",
    "    # First element of the pair\n",
    "    first_half = split[0].split('-')\n",
    "    first_half_first_half = int(first_half[0])\n",
    "    first_half_second_half = int(first_half[1])\n",
    "    \n",
    "    # Second element of the pair\n",
    "    second_half = split[1].split('-')\n",
    "    second_half_first_half = int(second_half[0])\n",
    "    second_half_second_half = int(second_half[1])\n",
    "    \n",
    "    first_condition = False\n",
    "    second_condition = False\n",
    "    \n",
    "    # First condition\n",
    "    if first_half_first_half <= second_half_first_half and first_half_second_half >= second_half_second_half:\n",
    "        first_condition = True\n",
    "        \n",
    "    # Second condition\n",
    "    \n",
    "    if second_half_first_half <= first_half_first_half and second_half_second_half >= first_half_second_half:\n",
    "        second_condition = True\n",
    "\n",
    "    \n",
    "    if first_condition or second_condition:\n",
    "        count = count + 1\n",
    "        \n",
    "count\n",
    "    "
   ]
  },
  {
   "cell_type": "markdown",
   "id": "abb07c4a",
   "metadata": {},
   "source": [
    "## Question 2"
   ]
  },
  {
   "cell_type": "code",
   "execution_count": 75,
   "id": "ce8f683e",
   "metadata": {},
   "outputs": [
    {
     "data": {
      "text/plain": [
       "833"
      ]
     },
     "execution_count": 75,
     "metadata": {},
     "output_type": "execute_result"
    }
   ],
   "source": [
    "count = 0\n",
    "for i in data:\n",
    "    split = i.split(',')\n",
    "    \n",
    "    # First element of the pair\n",
    "    first_half = split[0].split('-')\n",
    "    first_half_first_half = int(first_half[0])\n",
    "    first_half_second_half = int(first_half[1])\n",
    "    \n",
    "    # Second element of the pair\n",
    "    second_half = split[1].split('-')\n",
    "    second_half_first_half = int(second_half[0])\n",
    "    second_half_second_half = int(second_half[1])\n",
    "    \n",
    "    first_condition = False\n",
    "    second_condition = False\n",
    "    \n",
    "    \n",
    "    # Creating the inverse of the solution\n",
    "    # First condition \n",
    "    if first_half_second_half < second_half_first_half:\n",
    "        first_condition = True\n",
    "        \n",
    "    # Second condition\n",
    "    \n",
    "    if first_half_first_half > second_half_second_half:\n",
    "        second_condition = True\n",
    "\n",
    "    \n",
    "    if first_condition or second_condition:\n",
    "        #print(i)\n",
    "        count = count + 1\n",
    "\n",
    "# Subtraction from the total amount of pairs\n",
    "len(data) - count\n",
    "    "
   ]
  }
 ],
 "metadata": {
  "kernelspec": {
   "display_name": "Python 3 (ipykernel)",
   "language": "python",
   "name": "python3"
  },
  "language_info": {
   "codemirror_mode": {
    "name": "ipython",
    "version": 3
   },
   "file_extension": ".py",
   "mimetype": "text/x-python",
   "name": "python",
   "nbconvert_exporter": "python",
   "pygments_lexer": "ipython3",
   "version": "3.10.8"
  }
 },
 "nbformat": 4,
 "nbformat_minor": 5
}
