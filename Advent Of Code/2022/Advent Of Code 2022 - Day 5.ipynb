{
 "cells": [
  {
   "cell_type": "markdown",
   "id": "323419da",
   "metadata": {},
   "source": [
    "# Advent Of Code - Day 5"
   ]
  },
  {
   "cell_type": "code",
   "execution_count": 365,
   "id": "9ef919d7",
   "metadata": {},
   "outputs": [],
   "source": [
    "import re"
   ]
  },
  {
   "cell_type": "code",
   "execution_count": 366,
   "id": "3bfcf5fc",
   "metadata": {},
   "outputs": [],
   "source": [
    "current_state = open('current_state.txt').read().split('\\n')\n",
    "instructions = open('instructions.txt').read().split('\\n')"
   ]
  },
  {
   "cell_type": "code",
   "execution_count": 367,
   "id": "0c69ba5a",
   "metadata": {},
   "outputs": [
    {
     "data": {
      "text/plain": [
       "['[T]     [Q]             [S]        ',\n",
       " '[R]     [M]             [L] [V] [G]',\n",
       " '[D] [V] [V]             [Q] [N] [C]',\n",
       " '[H] [T] [S] [C]         [V] [D] [Z]',\n",
       " '[Q] [J] [D] [M]     [Z] [C] [M] [F]',\n",
       " '[N] [B] [H] [N] [B] [W] [N] [J] [M]',\n",
       " '[P] [G] [R] [Z] [Z] [C] [Z] [G] [P]',\n",
       " '[B] [W] [N] [P] [D] [V] [G] [L] [T]',\n",
       " ' 1   2   3   4   5   6   7   8   9']"
      ]
     },
     "execution_count": 367,
     "metadata": {},
     "output_type": "execute_result"
    }
   ],
   "source": [
    "current_state"
   ]
  },
  {
   "cell_type": "code",
   "execution_count": 368,
   "id": "f7b89747",
   "metadata": {},
   "outputs": [],
   "source": [
    "current_state.remove(current_state[8])"
   ]
  },
  {
   "cell_type": "markdown",
   "id": "4f44a15e",
   "metadata": {},
   "source": [
    "# Question 1"
   ]
  },
  {
   "cell_type": "code",
   "execution_count": 369,
   "id": "12c53a68",
   "metadata": {},
   "outputs": [
    {
     "data": {
      "text/plain": [
       "{1: ['Z'],\n",
       " 2: ['B',\n",
       "  'G',\n",
       "  'T',\n",
       "  'Q',\n",
       "  'L',\n",
       "  'Z',\n",
       "  'D',\n",
       "  'V',\n",
       "  'D',\n",
       "  'N',\n",
       "  'T',\n",
       "  'C',\n",
       "  'Q',\n",
       "  'P',\n",
       "  'M',\n",
       "  'C',\n",
       "  'J',\n",
       "  'C'],\n",
       " 3: ['D', 'N', 'V', 'B', 'N', 'Z', 'Z', 'L', 'T', 'W', 'S', 'G'],\n",
       " 4: ['R', 'N', 'M', 'B'],\n",
       " 5: ['N', 'M'],\n",
       " 6: ['P', 'V', 'D', 'W', 'R', 'G', 'Q'],\n",
       " 7: ['M'],\n",
       " 8: ['V', 'S', 'J', 'C', 'H', 'Z', 'P', 'G', 'V', 'F'],\n",
       " 9: ['H']}"
      ]
     },
     "execution_count": 369,
     "metadata": {},
     "output_type": "execute_result"
    }
   ],
   "source": [
    "cates_dict = dict()\n",
    "\n",
    "pos = 0\n",
    "for i in range(1,10):\n",
    "    cates_dict[i] = [re.sub('[^a-zA-Z0-9 \\n\\.]', '', x[0 + pos: 3 + pos]) for x in current_state]\n",
    "    pos = pos + 4\n",
    "    \n",
    "for g in cates_dict:\n",
    "    current_array = cates_dict[g]\n",
    "    array_new = [x for x in current_array if x != '   ']\n",
    "    cates_dict[g] = array_new\n",
    "\n",
    "move_count = [x[x.index('move') + 5 : x.index('from') - 1] for x in instructions]\n",
    "from_brick = [x[x.index('from') + 5 : x.index('to') -1] for x in instructions]\n",
    "to_brick = [x[-1:] for x in instructions]\n",
    "\n",
    "\n",
    "for step in range(0,len(instructions)):\n",
    "#for step in range(0,1):\n",
    "    count_bricks_moved = int(move_count[step])\n",
    "    from_what_brick = int(from_brick[step])\n",
    "    to_what_brick = int(to_brick[step])\n",
    "    \n",
    "    from_array_brick = cates_dict[from_what_brick]\n",
    "    to_array_brick = cates_dict[to_what_brick]\n",
    "    \n",
    "    from_new_brick = list()\n",
    "    to_new_drick = list()\n",
    "    count = 0\n",
    "    for brick in from_array_brick:\n",
    "        if count < count_bricks_moved:\n",
    "            count = count + 1\n",
    "            to_new_drick.append(brick)\n",
    "        else:\n",
    "            from_new_brick.append(brick)\n",
    "    \n",
    "    to_new_drick.reverse()\n",
    "    to_new_drick.extend(to_array_brick)\n",
    "    \n",
    "    cates_dict[from_what_brick] = from_new_brick\n",
    "    cates_dict[to_what_brick] = to_new_drick\n",
    "        \n",
    "cates_dict"
   ]
  },
  {
   "cell_type": "markdown",
   "id": "84756d37",
   "metadata": {},
   "source": [
    "# Question 2"
   ]
  },
  {
   "cell_type": "code",
   "execution_count": 371,
   "id": "3a65a225",
   "metadata": {},
   "outputs": [
    {
     "data": {
      "text/plain": [
       "{1: ['W'],\n",
       " 2: ['D',\n",
       "  'V',\n",
       "  'D',\n",
       "  'G',\n",
       "  'W',\n",
       "  'C',\n",
       "  'C',\n",
       "  'B',\n",
       "  'S',\n",
       "  'J',\n",
       "  'N',\n",
       "  'Q',\n",
       "  'V',\n",
       "  'B',\n",
       "  'C',\n",
       "  'Z',\n",
       "  'R',\n",
       "  'V'],\n",
       " 3: ['L', 'Q', 'S', 'T', 'V', 'Z', 'L', 'Z', 'D', 'T', 'M', 'T'],\n",
       " 4: ['P', 'G', 'M', 'M'],\n",
       " 5: ['F', 'G'],\n",
       " 6: ['N', 'G', 'H', 'Z', 'V', 'N', 'J'],\n",
       " 7: ['N'],\n",
       " 8: ['N', 'D', 'Q', 'P', 'P', 'R', 'M', 'H', 'C', 'Z'],\n",
       " 9: ['B']}"
      ]
     },
     "execution_count": 371,
     "metadata": {},
     "output_type": "execute_result"
    }
   ],
   "source": [
    "cates_dict = dict()\n",
    "\n",
    "pos = 0\n",
    "for i in range(1,10):\n",
    "    cates_dict[i] = [re.sub('[^a-zA-Z0-9 \\n\\.]', '', x[0 + pos: 3 + pos]) for x in current_state]\n",
    "    pos = pos + 4\n",
    "    \n",
    "for g in cates_dict:\n",
    "    current_array = cates_dict[g]\n",
    "    array_new = [x for x in current_array if x != '   ']\n",
    "    cates_dict[g] = array_new\n",
    "\n",
    "move_count = [x[x.index('move') + 5 : x.index('from') - 1] for x in instructions]\n",
    "from_brick = [x[x.index('from') + 5 : x.index('to') -1] for x in instructions]\n",
    "to_brick = [x[-1:] for x in instructions]\n",
    "\n",
    "\n",
    "for step in range(0,len(instructions)):\n",
    "    count_bricks_moved = int(move_count[step])\n",
    "    from_what_brick = int(from_brick[step])\n",
    "    to_what_brick = int(to_brick[step])\n",
    "    \n",
    "    from_array_brick = cates_dict[from_what_brick]\n",
    "    to_array_brick = cates_dict[to_what_brick]\n",
    "    \n",
    "    from_new_brick = list()\n",
    "    to_new_drick = list()\n",
    "    count = 0\n",
    "    for brick in from_array_brick:\n",
    "        if count < count_bricks_moved:\n",
    "            count = count + 1\n",
    "            to_new_drick.append(brick)\n",
    "        else:\n",
    "            from_new_brick.append(brick)\n",
    "    \n",
    "    to_new_drick.extend(to_array_brick)\n",
    "    \n",
    "    cates_dict[from_what_brick] = from_new_brick\n",
    "    cates_dict[to_what_brick] = to_new_drick\n",
    "        \n",
    "cates_dict"
   ]
  }
 ],
 "metadata": {
  "kernelspec": {
   "display_name": "Python 3 (ipykernel)",
   "language": "python",
   "name": "python3"
  },
  "language_info": {
   "codemirror_mode": {
    "name": "ipython",
    "version": 3
   },
   "file_extension": ".py",
   "mimetype": "text/x-python",
   "name": "python",
   "nbconvert_exporter": "python",
   "pygments_lexer": "ipython3",
   "version": "3.10.8"
  }
 },
 "nbformat": 4,
 "nbformat_minor": 5
}
