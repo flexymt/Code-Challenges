{
 "cells": [
  {
   "cell_type": "markdown",
   "id": "67d08944",
   "metadata": {},
   "source": [
    "# Advent Of Code - Day 3"
   ]
  },
  {
   "cell_type": "markdown",
   "id": "5122ac52",
   "metadata": {},
   "source": [
    "## Question 1"
   ]
  },
  {
   "cell_type": "code",
   "execution_count": 240,
   "id": "e437f7bf",
   "metadata": {},
   "outputs": [],
   "source": [
    "import numpy as np"
   ]
  },
  {
   "cell_type": "code",
   "execution_count": 241,
   "id": "6298b3df",
   "metadata": {},
   "outputs": [],
   "source": [
    "# Loading file \n",
    "text_file = open('untitled.txt').read().split(\"\\n\")"
   ]
  },
  {
   "cell_type": "code",
   "execution_count": 242,
   "id": "4db36c79",
   "metadata": {},
   "outputs": [],
   "source": [
    "# Splitting the string into its first and second half components\n",
    "first_half = [x[:round((len(x)/2))] for x in text_file]\n",
    "second_half = [x[-(round(len(x)/2)):] for x in text_file]"
   ]
  },
  {
   "cell_type": "code",
   "execution_count": 243,
   "id": "061fa676",
   "metadata": {},
   "outputs": [],
   "source": [
    "# Checking which letters are common between first and half strings\n",
    "common_letters_array = list()\n",
    "for i in range(0,len(first_half)):\n",
    "    for g in range(0,len(first_half[i])):\n",
    "        if first_half[i][g] in second_half[i]:\n",
    "            common_letters_array.append(first_half[i][g])\n",
    "            break\n",
    "            "
   ]
  },
  {
   "cell_type": "code",
   "execution_count": 244,
   "id": "0ae4ad8d",
   "metadata": {},
   "outputs": [],
   "source": [
    "# Creating a combined string of lower and uppercase alphabets\n",
    "result_lower = string.ascii_lowercase\n",
    "result_upper = string.ascii_uppercase\n",
    "alphabet_total = result_lower + result_upper"
   ]
  },
  {
   "cell_type": "code",
   "execution_count": 245,
   "id": "cbd20c15",
   "metadata": {},
   "outputs": [
    {
     "data": {
      "text/plain": [
       "7568"
      ]
     },
     "execution_count": 245,
     "metadata": {},
     "output_type": "execute_result"
    }
   ],
   "source": [
    "# Counting total score\n",
    "score_count = list()\n",
    "for letter in common_letters_array:\n",
    "    score = alphabet_total.index(letter) + 1\n",
    "    score_count.append(score)\n",
    "    \n",
    "sum(score_count)"
   ]
  },
  {
   "cell_type": "markdown",
   "id": "d3533ad1",
   "metadata": {},
   "source": [
    "## Question 2"
   ]
  },
  {
   "cell_type": "code",
   "execution_count": 246,
   "id": "2c8b0f96",
   "metadata": {},
   "outputs": [],
   "source": [
    "# Question 2 \n",
    "# Splitting the array into bits of 3 elements\n",
    "chunks = np.array_split(text_file, 100)"
   ]
  },
  {
   "cell_type": "code",
   "execution_count": 247,
   "id": "a51df2f4",
   "metadata": {},
   "outputs": [],
   "source": [
    "# Checking what letter is common between the three elements\n",
    "letters_array = list()\n",
    "for subset in chunks:\n",
    "    for letter in subset[0]:\n",
    "        if letter in subset[1] and letter in subset[2]:\n",
    "            letters_array.append(letter)\n",
    "            break\n",
    "            "
   ]
  },
  {
   "cell_type": "code",
   "execution_count": 248,
   "id": "11cb5530",
   "metadata": {},
   "outputs": [
    {
     "data": {
      "text/plain": [
       "2780"
      ]
     },
     "execution_count": 248,
     "metadata": {},
     "output_type": "execute_result"
    }
   ],
   "source": [
    "# Counting score\n",
    "\n",
    "score_count_2 = list()\n",
    "for letter in letters_array:\n",
    "    score = alphabet_total.index(letter) + 1\n",
    "    score_count_2.append(score)\n",
    "sum(score_count_2)"
   ]
  }
 ],
 "metadata": {
  "kernelspec": {
   "display_name": "Python 3 (ipykernel)",
   "language": "python",
   "name": "python3"
  },
  "language_info": {
   "codemirror_mode": {
    "name": "ipython",
    "version": 3
   },
   "file_extension": ".py",
   "mimetype": "text/x-python",
   "name": "python",
   "nbconvert_exporter": "python",
   "pygments_lexer": "ipython3",
   "version": "3.10.8"
  }
 },
 "nbformat": 4,
 "nbformat_minor": 5
}
