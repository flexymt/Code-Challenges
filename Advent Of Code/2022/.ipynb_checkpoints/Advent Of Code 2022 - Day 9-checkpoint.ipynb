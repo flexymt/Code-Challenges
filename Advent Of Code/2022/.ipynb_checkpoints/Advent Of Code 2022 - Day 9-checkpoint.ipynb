{
 "cells": [
  {
   "cell_type": "code",
   "execution_count": 677,
   "id": "81bf6e24",
   "metadata": {},
   "outputs": [],
   "source": [
    "import numpy as np\n",
    "from sklearn.metrics.pairwise import manhattan_distances\n",
    "import pandas as pd\n",
    "import time"
   ]
  },
  {
   "cell_type": "code",
   "execution_count": null,
   "id": "e1a11b18",
   "metadata": {},
   "outputs": [],
   "source": []
  },
  {
   "cell_type": "code",
   "execution_count": 678,
   "id": "1e13347b",
   "metadata": {},
   "outputs": [],
   "source": [
    "dataset = open('day9.txt').read().split('\\n')\n",
    "    "
   ]
  },
  {
   "cell_type": "markdown",
   "id": "6a6b4b54",
   "metadata": {},
   "source": [
    "## Question 1"
   ]
  },
  {
   "cell_type": "code",
   "execution_count": 679,
   "id": "ff809231",
   "metadata": {},
   "outputs": [],
   "source": [
    "def current_h_pos():\n",
    "    for row_index,array in enumerate(grid):\n",
    "        for array_index,value in enumerate(array):\n",
    "            if value == 'H':\n",
    "                h_position = [row_index,array_index]\n",
    "    return h_position\n",
    "\n",
    "def current_t_pos():\n",
    "    for row_index,array in enumerate(grid_t):\n",
    "        for array_index,value in enumerate(array):\n",
    "            if value == 'T':\n",
    "                t_position = [row_index,array_index]\n",
    "    return t_position\n"
   ]
  },
  {
   "cell_type": "code",
   "execution_count": 680,
   "id": "6e52d6a1",
   "metadata": {},
   "outputs": [],
   "source": [
    "def move_t():\n",
    "    t_pos = current_t_pos()\n",
    "    h_pos = current_h_pos()\n",
    "    euc_dist = np.linalg.norm(np.array(h_pos) - np.array(t_pos))\n",
    "    if h_pos[0] == t_pos[0]:\n",
    "        if euc_dist == 2:   \n",
    "            steps_dir = -1 if t_pos[1] - h_pos[1] > 0 else 1\n",
    "\n",
    "\n",
    "            grid_t[t_pos[0]] = grid_t[t_pos[0]][:t_pos[1]] + [1.0] + grid_t[t_pos[0]][t_pos[1] + 1:]\n",
    "            grid_t[t_pos[0]] = grid_t[t_pos[0]][:t_pos[1] + steps_dir] + ['T'] + grid_t[t_pos[0]][t_pos[1] + steps_dir + 1:]\n",
    "\n",
    "    if h_pos[0] != t_pos[0]:\n",
    "        if euc_dist >= 2:\n",
    "            steps_dir_vert = -1 if t_pos[0] - h_pos[0] > 0 else 1\n",
    "            steps_dir_hor = -1 if t_pos[1] - h_pos[1] > 0 else 1\n",
    "            steps_dir_hor = steps_dir_hor if abs(t_pos[1] - h_pos[1]) > 0 else 0\n",
    "            \n",
    "            grid_t[t_pos[0]] = grid_t[t_pos[0]][:t_pos[1]] + [1.0] + grid_t[t_pos[0]][t_pos[1] + 1:]\n",
    "            grid_t[t_pos[0] + steps_dir_vert] = grid_t[t_pos[0] + steps_dir_vert][:t_pos[1] + steps_dir_hor] + ['T'] + grid_t[t_pos[0] + steps_dir_vert][t_pos[1] + steps_dir_hor + 1:]"
   ]
  },
  {
   "cell_type": "code",
   "execution_count": 684,
   "id": "d4d3bccc",
   "metadata": {},
   "outputs": [
    {
     "name": "stdout",
     "output_type": "stream",
     "text": [
      "0\n",
      "100\n",
      "200\n",
      "300\n",
      "400\n",
      "500\n",
      "600\n",
      "700\n",
      "800\n",
      "900\n",
      "1000\n",
      "1100\n",
      "1200\n",
      "1300\n",
      "1400\n",
      "1500\n",
      "1600\n",
      "1700\n",
      "1800\n",
      "1900\n",
      "-227.12635588645935\n"
     ]
    }
   ],
   "source": [
    "grid = np.zeros((500,500)).tolist()\n",
    "grid_t = np.zeros((500,500)).tolist()\n",
    "\n",
    "start = time.time()\n",
    "\n",
    "# Setting starting point\n",
    "middle = int(len(grid)/2)\n",
    "grid[middle] = grid[middle][:middle] + ['H'] + grid[middle][middle + 1:]\n",
    "grid_t[middle] = grid_t[middle][:middle] + ['T'] + grid_t[middle][middle + 1:]\n",
    "\n",
    "for x in range(0,len(dataset)):\n",
    "    current_direction = dataset[x].split()\n",
    "    direction = current_direction[0]\n",
    "    steps = int(current_direction[1])\n",
    "    steps_dir = -1 if direction in ['L','U'] else 1\n",
    "    for steps_range in range(steps):\n",
    "        h_pos = current_h_pos()\n",
    "        if direction in ['R','L']:\n",
    "\n",
    "            grid[h_pos[0]] = grid[h_pos[0]][:h_pos[1]] + [1.0] + grid[h_pos[0]][h_pos[1] + 1:]\n",
    "            grid[h_pos[0]] = grid[h_pos[0]][:h_pos[1] + steps_dir] + ['H'] + grid[h_pos[0]][h_pos[1] + steps_dir + 1:]\n",
    "\n",
    "            move_t()\n",
    "\n",
    "        elif direction in ['U','D']:\n",
    "\n",
    "            grid[h_pos[0]] = grid[h_pos[0]][:h_pos[1]] + [1.0] + grid[h_pos[0]][h_pos[1] + 1:]\n",
    "            grid[h_pos[0] + steps_dir] = grid[h_pos[0] + steps_dir][:h_pos[1]] + ['H'] + grid[h_pos[0] + steps_dir][h_pos[1] + 1:]\n",
    "            \n",
    "            move_t()\n",
    "             \n",
    "    if x%100 == 0:\n",
    "        print(x)\n",
    "        \n",
    "t_pos = current_t_pos()\n",
    "grid_t[t_pos[0]] = grid_t[t_pos[0]][:t_pos[1]] + [1.0] + grid_t[t_pos[0]][t_pos[1] + 1:]\n",
    "end = time.time()\n",
    "print(end - start)\n"
   ]
  },
  {
   "cell_type": "code",
   "execution_count": 682,
   "id": "ea548d9f",
   "metadata": {},
   "outputs": [],
   "source": [
    "grid_t_pd = pd.DataFrame(grid_t)\n",
    "grid_t_pd.sum().sum()"
   ]
  },
  {
   "cell_type": "markdown",
   "id": "1a649803",
   "metadata": {},
   "source": [
    "## Question 2"
   ]
  },
  {
   "cell_type": "code",
   "execution_count": 967,
   "id": "08ff3831",
   "metadata": {},
   "outputs": [],
   "source": [
    "def current_h_pos_q2():\n",
    "    for row_index,array in enumerate(grid_dict['H']):\n",
    "        for array_index,value in enumerate(array):\n",
    "            if value == 'H':\n",
    "                h_position = [row_index,array_index]\n",
    "    return h_position\n",
    "\n",
    "def current_element_pos(element):\n",
    "    for row_index,array in enumerate(grid_dict[element]):\n",
    "        for array_index,value in enumerate(array):\n",
    "            if value == element:\n",
    "                element_position = [row_index,array_index]\n",
    "    return element_position"
   ]
  },
  {
   "cell_type": "code",
   "execution_count": 968,
   "id": "71515a73",
   "metadata": {},
   "outputs": [],
   "source": [
    "def move_element(element):\n",
    "    grid = grid_dict[element]\n",
    "    \n",
    "    element_pos = current_element_pos(element)\n",
    "    \n",
    "    element_to_follow = rope_array[rope_array.index(element) - 1]\n",
    "    element_to_follow_pos = current_element_pos(element_to_follow)\n",
    "    \n",
    "    euc_dist = np.linalg.norm(np.array(element_to_follow_pos) - np.array(element_pos))\n",
    "    if element_to_follow_pos[0] == element_pos[0] and euc_dist == 2:\n",
    "        steps_dir = -1 if element_pos[1] - element_to_follow_pos[1] > 0 else 1\n",
    "        grid[element_pos[0]] = grid[element_pos[0]][:element_pos[1]] + ['X'] + grid[element_pos[0]][element_pos[1] + 1:]\n",
    "        grid[element_pos[0]] = grid[element_pos[0]][:element_pos[1] + steps_dir] + [element] + grid[element_pos[0]][element_pos[1] + steps_dir + 1:]\n",
    "\n",
    "    if element_to_follow_pos[0] != element_pos[0] and euc_dist >= 2:\n",
    "        steps_dir_vert = -1 if element_pos[0] - element_to_follow_pos[0] > 0 else 1\n",
    "        steps_dir_hor = -1 if element_pos[1] - element_to_follow_pos[1] > 0 else 1\n",
    "        steps_dir_hor = steps_dir_hor if abs(element_pos[1] - element_to_follow_pos[1]) > 0 else 0\n",
    "        grid[element_pos[0]] = grid[element_pos[0]][:element_pos[1]] + ['X'] + grid[element_pos[0]][element_pos[1] + 1:]\n",
    "        grid[element_pos[0] + steps_dir_vert] = grid[element_pos[0] + steps_dir_vert][:element_pos[1] + steps_dir_hor] + [element] + grid[element_pos[0] + steps_dir_vert][element_pos[1] + steps_dir_hor + 1:]\n",
    "\n",
    "    grid_dict[element] = grid\n",
    "            "
   ]
  },
  {
   "cell_type": "code",
   "execution_count": 969,
   "id": "4cf0e1d2",
   "metadata": {},
   "outputs": [],
   "source": [
    "rope_array = ['H',1,2,3,4,5,6,7,8,9]\n",
    "grid_dict = dict()\n",
    "middle = int(250/2)\n",
    "\n",
    "for element in rope_array:\n",
    "    grid_dict[element] = np.zeros((250,250)).tolist()\n",
    "    grid = grid_dict[element]\n",
    "    grid[middle] = grid[middle][:middle] + [element] + grid[middle][middle + 1:]\n",
    "    grid_dict[element] = grid\n",
    "\n",
    "for x in range(0,len(dataset)):\n",
    "    current_direction = dataset[x].split()\n",
    "    direction = current_direction[0]\n",
    "    steps = int(current_direction[1])\n",
    "    steps_dir = -1 if direction in ['L','U'] else 1\n",
    "    grid_h = grid_dict['H']\n",
    "    for steps_range in range(steps):\n",
    "        h_pos = current_h_pos_q2()\n",
    "        if direction in ['R','L']:\n",
    "            grid_h[h_pos[0]] = grid_h[h_pos[0]][:h_pos[1]] + ['X'] + grid_h[h_pos[0]][h_pos[1] + 1:]\n",
    "            grid_h[h_pos[0]] = grid_h[h_pos[0]][:h_pos[1] + steps_dir] + ['H'] + grid_h[h_pos[0]][h_pos[1] + steps_dir + 1:]\n",
    "            grid_dict['H'] = grid_h\n",
    "\n",
    "            for element in rope_array[1:]:\n",
    "                move_element(element)\n",
    "\n",
    "        elif direction in ['U','D']:\n",
    "\n",
    "            grid_h[h_pos[0]] = grid_h[h_pos[0]][:h_pos[1]] + ['X'] + grid_h[h_pos[0]][h_pos[1] + 1:]\n",
    "            grid_h[h_pos[0] + steps_dir] = grid_h[h_pos[0] + steps_dir][:h_pos[1]] + ['H'] + grid_h[h_pos[0] + steps_dir][h_pos[1] + 1:]\n",
    "            \n",
    "            for element in rope_array[1:]:\n",
    "                move_element(element)\n"
   ]
  },
  {
   "cell_type": "code",
   "execution_count": 970,
   "id": "bad4ba4f",
   "metadata": {},
   "outputs": [
    {
     "data": {
      "text/plain": [
       "2487.0"
      ]
     },
     "execution_count": 970,
     "metadata": {},
     "output_type": "execute_result"
    }
   ],
   "source": [
    "dataframe_element_9 = pd.DataFrame(grid_dict[9])\n",
    "dataframe_element_9 = dataframe_element_9.replace('X',1)\n",
    "dataframe_element_9.sum().sum() + 1"
   ]
  },
  {
   "cell_type": "code",
   "execution_count": null,
   "id": "d85931fe",
   "metadata": {},
   "outputs": [],
   "source": []
  }
 ],
 "metadata": {
  "kernelspec": {
   "display_name": "Python 3 (ipykernel)",
   "language": "python",
   "name": "python3"
  },
  "language_info": {
   "codemirror_mode": {
    "name": "ipython",
    "version": 3
   },
   "file_extension": ".py",
   "mimetype": "text/x-python",
   "name": "python",
   "nbconvert_exporter": "python",
   "pygments_lexer": "ipython3",
   "version": "3.10.8"
  }
 },
 "nbformat": 4,
 "nbformat_minor": 5
}
