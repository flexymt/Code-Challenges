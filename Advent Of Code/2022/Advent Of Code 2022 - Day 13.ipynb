{
 "cells": [
  {
   "cell_type": "code",
   "execution_count": 641,
   "id": "6a21bb92",
   "metadata": {},
   "outputs": [],
   "source": [
    "import ast\n",
    "from itertools import chain\n"
   ]
  },
  {
   "cell_type": "code",
   "execution_count": 642,
   "id": "fcd4da63",
   "metadata": {},
   "outputs": [],
   "source": [
    "data = open('data.txt').readlines()"
   ]
  },
  {
   "cell_type": "code",
   "execution_count": 643,
   "id": "515b243b",
   "metadata": {},
   "outputs": [],
   "source": [
    "dataset = [ast.literal_eval(x.replace('\\n','')) for x in data if x != '\\n']"
   ]
  },
  {
   "cell_type": "markdown",
   "id": "709d6f39",
   "metadata": {},
   "source": [
    "# Question 1"
   ]
  },
  {
   "cell_type": "code",
   "execution_count": 639,
   "id": "6d103a8d",
   "metadata": {},
   "outputs": [],
   "source": [
    "data_points = list(range(0,len(dataset),2))\n",
    "comparision_array = list()\n",
    "comparision_index = 0\n",
    "for x in data_points:\n",
    "    comparision_index+=1\n",
    "    lower = dataset[x]\n",
    "    upper = dataset[x + 1]\n",
    "    condition = 0\n",
    "    condition = compare_lists(lower,upper, condition)\n",
    "    if condition == 1:\n",
    "        comparision_array.append(comparision_index)\n",
    "        \n",
    "    \n",
    "    \n",
    "    \n",
    "    "
   ]
  },
  {
   "cell_type": "code",
   "execution_count": 640,
   "id": "7df33808",
   "metadata": {},
   "outputs": [
    {
     "data": {
      "text/plain": [
       "5252"
      ]
     },
     "execution_count": 640,
     "metadata": {},
     "output_type": "execute_result"
    }
   ],
   "source": [
    "sum(comparision_array)"
   ]
  },
  {
   "cell_type": "code",
   "execution_count": 576,
   "id": "d11fff68",
   "metadata": {},
   "outputs": [],
   "source": [
    "def compare_lists(lower_list,upper_list, condition):\n",
    "    len_lower_list = len(lower_list) if type(lower_list) == list else 1\n",
    "    len_upper_list = len(upper_list) if type(upper_list) == list else 1\n",
    "    min_length = max(len_lower_list,len_upper_list)\n",
    "    for i in range(0,min_length):\n",
    "        try:\n",
    "            testing = lower_list[i]\n",
    "        except IndexError as e:\n",
    "            if str(e) == 'list index out of range':\n",
    "                condition = 1\n",
    "                return condition      \n",
    "        try:\n",
    "            testing = upper_list[i]\n",
    "        except IndexError as e:\n",
    "            if str(e) == 'list index out of range':\n",
    "                condition = 2\n",
    "                return  condition\n",
    "            \n",
    "        if type(lower_list) == int and type(upper_list) == list :\n",
    "            left_int = lower_list\n",
    "            right_int = upper_list[i]\n",
    "        if type(upper_list) == int and type(lower_list) == list :\n",
    "            right_int = upper_list\n",
    "            left_int = lower_list[i]\n",
    "        if isinstance(lower_list,list) and isinstance(upper_list,list):\n",
    "            left_int, right_int = lower_list[i],upper_list[i]\n",
    "        if isinstance(left_int,list) and isinstance(right_int,list):\n",
    "            condition = compare_lists(left_int,right_int,condition)\n",
    "            if condition != 0:\n",
    "                return condition\n",
    "            else:\n",
    "                continue\n",
    "        if isinstance(left_int,list) and isinstance(right_int,int):\n",
    "            right_int = [right_int]\n",
    "            condition = compare_lists(left_int,right_int,condition)\n",
    "            if condition != 0:\n",
    "                return condition\n",
    "            else:\n",
    "                continue\n",
    "        if isinstance(left_int,int) and isinstance(right_int,list):\n",
    "            left_int = [left_int]\n",
    "            condition = compare_lists(left_int,right_int, condition)\n",
    "            if condition != 0:\n",
    "                return condition\n",
    "            else:\n",
    "                continue          \n",
    "        if left_int < right_int:\n",
    "            condition = 1\n",
    "            return  condition\n",
    "        if left_int > right_int:\n",
    "            condition = 2\n",
    "            return  condition\n",
    "    \n",
    "    return  condition\n",
    "        \n",
    "        "
   ]
  },
  {
   "cell_type": "markdown",
   "id": "eb0168b4",
   "metadata": {},
   "source": [
    "# Question 2"
   ]
  },
  {
   "cell_type": "code",
   "execution_count": 644,
   "id": "0b1e48ef",
   "metadata": {},
   "outputs": [],
   "source": [
    "dataset_copy = dataset.copy()"
   ]
  },
  {
   "cell_type": "code",
   "execution_count": 645,
   "id": "a8a01e3a",
   "metadata": {},
   "outputs": [],
   "source": [
    "def iterate_list(data):\n",
    "    first_value = data[0]\n",
    "    smallest_list = data[0]\n",
    "    for index,j in enumerate(data):\n",
    "        if index + 1 < len(data):\n",
    "            condition = 0\n",
    "            next_list = data[index + 1]\n",
    "            condition = compare_lists(smallest_list,next_list,condition)\n",
    "            if condition == 2:\n",
    "                smallest_list = next_list\n",
    "    return smallest_list,first_value\n",
    "        "
   ]
  },
  {
   "cell_type": "code",
   "execution_count": 646,
   "id": "bac48325",
   "metadata": {},
   "outputs": [],
   "source": [
    "dataset_copy = dataset.copy()\n",
    "order_array = list()\n",
    "comparision_index = 0\n",
    "for i in range(len(dataset)):\n",
    "    smallest_list,first_value = iterate_list(dataset_copy)\n",
    "    index_of_smallest_list = dataset_copy.index(smallest_list)\n",
    "    dataset_copy[index_of_smallest_list] = first_value\n",
    "    dataset_copy.remove(first_value)\n",
    "    order_array.append(smallest_list)"
   ]
  },
  {
   "cell_type": "code",
   "execution_count": 647,
   "id": "29f0dbf7",
   "metadata": {},
   "outputs": [
    {
     "data": {
      "text/plain": [
       "20592"
      ]
     },
     "execution_count": 647,
     "metadata": {},
     "output_type": "execute_result"
    }
   ],
   "source": [
    "(order_array.index([[2]]) + 1 ) * (order_array.index([[6]]) + 1 )"
   ]
  }
 ],
 "metadata": {
  "kernelspec": {
   "display_name": "Python 3 (ipykernel)",
   "language": "python",
   "name": "python3"
  },
  "language_info": {
   "codemirror_mode": {
    "name": "ipython",
    "version": 3
   },
   "file_extension": ".py",
   "mimetype": "text/x-python",
   "name": "python",
   "nbconvert_exporter": "python",
   "pygments_lexer": "ipython3",
   "version": "3.10.8"
  }
 },
 "nbformat": 4,
 "nbformat_minor": 5
}
